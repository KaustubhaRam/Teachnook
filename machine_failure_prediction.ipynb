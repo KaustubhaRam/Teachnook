{
 "cells": [
  {
   "cell_type": "code",
   "execution_count": 29,
   "metadata": {},
   "outputs": [],
   "source": [
    "import numpy as np\n",
    "import pandas as pd\n",
    "import matplotlib.pyplot as pyplt\n",
    "import seaborn as sns\n",
    "from sklearn.model_selection import train_test_split \n",
    "from sklearn.linear_model import LogisticRegression\n",
    "from sklearn.ensemble import RandomForestRegressor\n",
    "from sklearn.tree import DecisionTreeRegressor\n",
    "from sklearn.neighbors import KNeighborsRegressor\n",
    "from catboost import CatBoostRegressor\n",
    "from sklearn.naive_bayes import GaussianNB\n",
    "from sklearn.svm import SVR"
   ]
  },
  {
   "cell_type": "code",
   "execution_count": 30,
   "metadata": {},
   "outputs": [
    {
     "data": {
      "text/html": [
       "<div>\n",
       "<style scoped>\n",
       "    .dataframe tbody tr th:only-of-type {\n",
       "        vertical-align: middle;\n",
       "    }\n",
       "\n",
       "    .dataframe tbody tr th {\n",
       "        vertical-align: top;\n",
       "    }\n",
       "\n",
       "    .dataframe thead th {\n",
       "        text-align: right;\n",
       "    }\n",
       "</style>\n",
       "<table border=\"1\" class=\"dataframe\">\n",
       "  <thead>\n",
       "    <tr style=\"text-align: right;\">\n",
       "      <th></th>\n",
       "      <th>footfall</th>\n",
       "      <th>tempMode</th>\n",
       "      <th>AQ</th>\n",
       "      <th>USS</th>\n",
       "      <th>CS</th>\n",
       "      <th>VOC</th>\n",
       "      <th>RP</th>\n",
       "      <th>IP</th>\n",
       "      <th>Temperature</th>\n",
       "      <th>fail</th>\n",
       "    </tr>\n",
       "  </thead>\n",
       "  <tbody>\n",
       "    <tr>\n",
       "      <th>0</th>\n",
       "      <td>0</td>\n",
       "      <td>7</td>\n",
       "      <td>7</td>\n",
       "      <td>1</td>\n",
       "      <td>6</td>\n",
       "      <td>6</td>\n",
       "      <td>36</td>\n",
       "      <td>3</td>\n",
       "      <td>1</td>\n",
       "      <td>1</td>\n",
       "    </tr>\n",
       "    <tr>\n",
       "      <th>1</th>\n",
       "      <td>190</td>\n",
       "      <td>1</td>\n",
       "      <td>3</td>\n",
       "      <td>3</td>\n",
       "      <td>5</td>\n",
       "      <td>1</td>\n",
       "      <td>20</td>\n",
       "      <td>4</td>\n",
       "      <td>1</td>\n",
       "      <td>0</td>\n",
       "    </tr>\n",
       "    <tr>\n",
       "      <th>2</th>\n",
       "      <td>31</td>\n",
       "      <td>7</td>\n",
       "      <td>2</td>\n",
       "      <td>2</td>\n",
       "      <td>6</td>\n",
       "      <td>1</td>\n",
       "      <td>24</td>\n",
       "      <td>6</td>\n",
       "      <td>1</td>\n",
       "      <td>0</td>\n",
       "    </tr>\n",
       "    <tr>\n",
       "      <th>3</th>\n",
       "      <td>83</td>\n",
       "      <td>4</td>\n",
       "      <td>3</td>\n",
       "      <td>4</td>\n",
       "      <td>5</td>\n",
       "      <td>1</td>\n",
       "      <td>28</td>\n",
       "      <td>6</td>\n",
       "      <td>1</td>\n",
       "      <td>0</td>\n",
       "    </tr>\n",
       "    <tr>\n",
       "      <th>4</th>\n",
       "      <td>640</td>\n",
       "      <td>7</td>\n",
       "      <td>5</td>\n",
       "      <td>6</td>\n",
       "      <td>4</td>\n",
       "      <td>0</td>\n",
       "      <td>68</td>\n",
       "      <td>6</td>\n",
       "      <td>1</td>\n",
       "      <td>0</td>\n",
       "    </tr>\n",
       "    <tr>\n",
       "      <th>...</th>\n",
       "      <td>...</td>\n",
       "      <td>...</td>\n",
       "      <td>...</td>\n",
       "      <td>...</td>\n",
       "      <td>...</td>\n",
       "      <td>...</td>\n",
       "      <td>...</td>\n",
       "      <td>...</td>\n",
       "      <td>...</td>\n",
       "      <td>...</td>\n",
       "    </tr>\n",
       "    <tr>\n",
       "      <th>939</th>\n",
       "      <td>0</td>\n",
       "      <td>7</td>\n",
       "      <td>7</td>\n",
       "      <td>1</td>\n",
       "      <td>6</td>\n",
       "      <td>4</td>\n",
       "      <td>73</td>\n",
       "      <td>6</td>\n",
       "      <td>24</td>\n",
       "      <td>1</td>\n",
       "    </tr>\n",
       "    <tr>\n",
       "      <th>940</th>\n",
       "      <td>0</td>\n",
       "      <td>7</td>\n",
       "      <td>5</td>\n",
       "      <td>2</td>\n",
       "      <td>6</td>\n",
       "      <td>6</td>\n",
       "      <td>50</td>\n",
       "      <td>6</td>\n",
       "      <td>24</td>\n",
       "      <td>1</td>\n",
       "    </tr>\n",
       "    <tr>\n",
       "      <th>941</th>\n",
       "      <td>0</td>\n",
       "      <td>3</td>\n",
       "      <td>6</td>\n",
       "      <td>2</td>\n",
       "      <td>7</td>\n",
       "      <td>5</td>\n",
       "      <td>43</td>\n",
       "      <td>6</td>\n",
       "      <td>24</td>\n",
       "      <td>1</td>\n",
       "    </tr>\n",
       "    <tr>\n",
       "      <th>942</th>\n",
       "      <td>0</td>\n",
       "      <td>6</td>\n",
       "      <td>6</td>\n",
       "      <td>2</td>\n",
       "      <td>5</td>\n",
       "      <td>6</td>\n",
       "      <td>46</td>\n",
       "      <td>7</td>\n",
       "      <td>24</td>\n",
       "      <td>1</td>\n",
       "    </tr>\n",
       "    <tr>\n",
       "      <th>943</th>\n",
       "      <td>18</td>\n",
       "      <td>7</td>\n",
       "      <td>4</td>\n",
       "      <td>2</td>\n",
       "      <td>6</td>\n",
       "      <td>3</td>\n",
       "      <td>61</td>\n",
       "      <td>7</td>\n",
       "      <td>24</td>\n",
       "      <td>1</td>\n",
       "    </tr>\n",
       "  </tbody>\n",
       "</table>\n",
       "<p>944 rows × 10 columns</p>\n",
       "</div>"
      ],
      "text/plain": [
       "     footfall  tempMode  AQ  USS  CS  VOC  RP  IP  Temperature  fail\n",
       "0           0         7   7    1   6    6  36   3            1     1\n",
       "1         190         1   3    3   5    1  20   4            1     0\n",
       "2          31         7   2    2   6    1  24   6            1     0\n",
       "3          83         4   3    4   5    1  28   6            1     0\n",
       "4         640         7   5    6   4    0  68   6            1     0\n",
       "..        ...       ...  ..  ...  ..  ...  ..  ..          ...   ...\n",
       "939         0         7   7    1   6    4  73   6           24     1\n",
       "940         0         7   5    2   6    6  50   6           24     1\n",
       "941         0         3   6    2   7    5  43   6           24     1\n",
       "942         0         6   6    2   5    6  46   7           24     1\n",
       "943        18         7   4    2   6    3  61   7           24     1\n",
       "\n",
       "[944 rows x 10 columns]"
      ]
     },
     "execution_count": 30,
     "metadata": {},
     "output_type": "execute_result"
    }
   ],
   "source": [
    "machine_data=pd.read_csv(\"data.csv\")\n",
    "machine_data"
   ]
  },
  {
   "cell_type": "markdown",
   "metadata": {},
   "source": [
    "Check for nulls"
   ]
  },
  {
   "cell_type": "code",
   "execution_count": 31,
   "metadata": {},
   "outputs": [
    {
     "data": {
      "text/plain": [
       "footfall       0\n",
       "tempMode       0\n",
       "AQ             0\n",
       "USS            0\n",
       "CS             0\n",
       "VOC            0\n",
       "RP             0\n",
       "IP             0\n",
       "Temperature    0\n",
       "fail           0\n",
       "dtype: int64"
      ]
     },
     "execution_count": 31,
     "metadata": {},
     "output_type": "execute_result"
    }
   ],
   "source": [
    "machine_data.isnull().sum()"
   ]
  },
  {
   "cell_type": "markdown",
   "metadata": {},
   "source": [
    "No nulls"
   ]
  },
  {
   "cell_type": "code",
   "execution_count": 32,
   "metadata": {},
   "outputs": [
    {
     "data": {
      "text/html": [
       "<div>\n",
       "<style scoped>\n",
       "    .dataframe tbody tr th:only-of-type {\n",
       "        vertical-align: middle;\n",
       "    }\n",
       "\n",
       "    .dataframe tbody tr th {\n",
       "        vertical-align: top;\n",
       "    }\n",
       "\n",
       "    .dataframe thead th {\n",
       "        text-align: right;\n",
       "    }\n",
       "</style>\n",
       "<table border=\"1\" class=\"dataframe\">\n",
       "  <thead>\n",
       "    <tr style=\"text-align: right;\">\n",
       "      <th></th>\n",
       "      <th>footfall</th>\n",
       "      <th>tempMode</th>\n",
       "      <th>AQ</th>\n",
       "      <th>USS</th>\n",
       "      <th>CS</th>\n",
       "      <th>VOC</th>\n",
       "      <th>RP</th>\n",
       "      <th>IP</th>\n",
       "      <th>Temperature</th>\n",
       "      <th>fail</th>\n",
       "    </tr>\n",
       "  </thead>\n",
       "  <tbody>\n",
       "    <tr>\n",
       "      <th>0</th>\n",
       "      <td>0</td>\n",
       "      <td>7</td>\n",
       "      <td>7</td>\n",
       "      <td>1</td>\n",
       "      <td>6</td>\n",
       "      <td>6</td>\n",
       "      <td>36</td>\n",
       "      <td>3</td>\n",
       "      <td>1</td>\n",
       "      <td>1</td>\n",
       "    </tr>\n",
       "    <tr>\n",
       "      <th>1</th>\n",
       "      <td>190</td>\n",
       "      <td>1</td>\n",
       "      <td>3</td>\n",
       "      <td>3</td>\n",
       "      <td>5</td>\n",
       "      <td>1</td>\n",
       "      <td>20</td>\n",
       "      <td>4</td>\n",
       "      <td>1</td>\n",
       "      <td>0</td>\n",
       "    </tr>\n",
       "    <tr>\n",
       "      <th>2</th>\n",
       "      <td>31</td>\n",
       "      <td>7</td>\n",
       "      <td>2</td>\n",
       "      <td>2</td>\n",
       "      <td>6</td>\n",
       "      <td>1</td>\n",
       "      <td>24</td>\n",
       "      <td>6</td>\n",
       "      <td>1</td>\n",
       "      <td>0</td>\n",
       "    </tr>\n",
       "    <tr>\n",
       "      <th>3</th>\n",
       "      <td>83</td>\n",
       "      <td>4</td>\n",
       "      <td>3</td>\n",
       "      <td>4</td>\n",
       "      <td>5</td>\n",
       "      <td>1</td>\n",
       "      <td>28</td>\n",
       "      <td>6</td>\n",
       "      <td>1</td>\n",
       "      <td>0</td>\n",
       "    </tr>\n",
       "    <tr>\n",
       "      <th>4</th>\n",
       "      <td>640</td>\n",
       "      <td>7</td>\n",
       "      <td>5</td>\n",
       "      <td>6</td>\n",
       "      <td>4</td>\n",
       "      <td>0</td>\n",
       "      <td>68</td>\n",
       "      <td>6</td>\n",
       "      <td>1</td>\n",
       "      <td>0</td>\n",
       "    </tr>\n",
       "  </tbody>\n",
       "</table>\n",
       "</div>"
      ],
      "text/plain": [
       "   footfall  tempMode  AQ  USS  CS  VOC  RP  IP  Temperature  fail\n",
       "0         0         7   7    1   6    6  36   3            1     1\n",
       "1       190         1   3    3   5    1  20   4            1     0\n",
       "2        31         7   2    2   6    1  24   6            1     0\n",
       "3        83         4   3    4   5    1  28   6            1     0\n",
       "4       640         7   5    6   4    0  68   6            1     0"
      ]
     },
     "execution_count": 32,
     "metadata": {},
     "output_type": "execute_result"
    }
   ],
   "source": [
    "machine_data.head()"
   ]
  },
  {
   "cell_type": "markdown",
   "metadata": {},
   "source": [
    "Exploratory Data Analysis"
   ]
  },
  {
   "cell_type": "code",
   "execution_count": 33,
   "metadata": {},
   "outputs": [
    {
     "data": {
      "text/plain": [
       "fail\n",
       "0    373.150635\n",
       "1    212.768448\n",
       "Name: footfall, dtype: float64"
      ]
     },
     "execution_count": 33,
     "metadata": {},
     "output_type": "execute_result"
    }
   ],
   "source": [
    "machine_data.groupby('fail')['footfall'].mean()"
   ]
  },
  {
   "cell_type": "code",
   "execution_count": 34,
   "metadata": {},
   "outputs": [
    {
     "data": {
      "text/plain": [
       "fail\n",
       "0    3.760436\n",
       "1    3.681934\n",
       "Name: tempMode, dtype: float64"
      ]
     },
     "execution_count": 34,
     "metadata": {},
     "output_type": "execute_result"
    }
   ],
   "source": [
    "machine_data.groupby('fail')['tempMode'].mean()"
   ]
  },
  {
   "cell_type": "code",
   "execution_count": 35,
   "metadata": {},
   "outputs": [
    {
     "data": {
      "text/plain": [
       "fail\n",
       "0    3.617060\n",
       "1    5.318066\n",
       "Name: AQ, dtype: float64"
      ]
     },
     "execution_count": 35,
     "metadata": {},
     "output_type": "execute_result"
    }
   ],
   "source": [
    "machine_data.groupby('fail')['AQ'].mean()"
   ]
  },
  {
   "cell_type": "code",
   "execution_count": 36,
   "metadata": {},
   "outputs": [
    {
     "data": {
      "text/plain": [
       "fail\n",
       "0    3.484574\n",
       "1    2.175573\n",
       "Name: USS, dtype: float64"
      ]
     },
     "execution_count": 36,
     "metadata": {},
     "output_type": "execute_result"
    }
   ],
   "source": [
    "machine_data.groupby('fail')['USS'].mean()"
   ]
  },
  {
   "cell_type": "code",
   "execution_count": 37,
   "metadata": {},
   "outputs": [
    {
     "data": {
      "text/plain": [
       "fail\n",
       "0    5.373866\n",
       "1    5.422392\n",
       "Name: CS, dtype: float64"
      ]
     },
     "execution_count": 37,
     "metadata": {},
     "output_type": "execute_result"
    }
   ],
   "source": [
    "machine_data.groupby('fail')['CS'].mean()"
   ]
  },
  {
   "cell_type": "code",
   "execution_count": 38,
   "metadata": {},
   "outputs": [
    {
     "data": {
      "text/plain": [
       "fail\n",
       "0    1.312160\n",
       "1    4.987277\n",
       "Name: VOC, dtype: float64"
      ]
     },
     "execution_count": 38,
     "metadata": {},
     "output_type": "execute_result"
    }
   ],
   "source": [
    "machine_data.groupby('fail')['VOC'].mean()"
   ]
  },
  {
   "cell_type": "code",
   "execution_count": 39,
   "metadata": {},
   "outputs": [
    {
     "data": {
      "text/plain": [
       "fail\n",
       "0    46.299456\n",
       "1    48.086514\n",
       "Name: RP, dtype: float64"
      ]
     },
     "execution_count": 39,
     "metadata": {},
     "output_type": "execute_result"
    }
   ],
   "source": [
    "machine_data.groupby('fail')['RP'].mean()"
   ]
  },
  {
   "cell_type": "code",
   "execution_count": 40,
   "metadata": {},
   "outputs": [
    {
     "data": {
      "text/plain": [
       "fail\n",
       "0    4.450091\n",
       "1    4.727735\n",
       "Name: IP, dtype: float64"
      ]
     },
     "execution_count": 40,
     "metadata": {},
     "output_type": "execute_result"
    }
   ],
   "source": [
    "machine_data.groupby('fail')['IP'].mean()"
   ]
  },
  {
   "cell_type": "code",
   "execution_count": 41,
   "metadata": {},
   "outputs": [
    {
     "data": {
      "text/html": [
       "<div>\n",
       "<style scoped>\n",
       "    .dataframe tbody tr th:only-of-type {\n",
       "        vertical-align: middle;\n",
       "    }\n",
       "\n",
       "    .dataframe tbody tr th {\n",
       "        vertical-align: top;\n",
       "    }\n",
       "\n",
       "    .dataframe thead th {\n",
       "        text-align: right;\n",
       "    }\n",
       "</style>\n",
       "<table border=\"1\" class=\"dataframe\">\n",
       "  <thead>\n",
       "    <tr style=\"text-align: right;\">\n",
       "      <th></th>\n",
       "      <th>footfall</th>\n",
       "      <th>tempMode</th>\n",
       "      <th>AQ</th>\n",
       "      <th>USS</th>\n",
       "      <th>CS</th>\n",
       "      <th>VOC</th>\n",
       "      <th>RP</th>\n",
       "      <th>IP</th>\n",
       "      <th>Temperature</th>\n",
       "      <th>fail</th>\n",
       "    </tr>\n",
       "  </thead>\n",
       "  <tbody>\n",
       "    <tr>\n",
       "      <th>footfall</th>\n",
       "      <td>1.000000</td>\n",
       "      <td>0.020457</td>\n",
       "      <td>-0.065816</td>\n",
       "      <td>0.019453</td>\n",
       "      <td>0.025638</td>\n",
       "      <td>-0.089590</td>\n",
       "      <td>-0.043720</td>\n",
       "      <td>-0.003869</td>\n",
       "      <td>-0.018009</td>\n",
       "      <td>-0.073066</td>\n",
       "    </tr>\n",
       "    <tr>\n",
       "      <th>tempMode</th>\n",
       "      <td>0.020457</td>\n",
       "      <td>1.000000</td>\n",
       "      <td>-0.010855</td>\n",
       "      <td>0.002142</td>\n",
       "      <td>-0.013956</td>\n",
       "      <td>-0.052369</td>\n",
       "      <td>0.408784</td>\n",
       "      <td>-0.058109</td>\n",
       "      <td>-0.062568</td>\n",
       "      <td>-0.014462</td>\n",
       "    </tr>\n",
       "    <tr>\n",
       "      <th>AQ</th>\n",
       "      <td>-0.065816</td>\n",
       "      <td>-0.010855</td>\n",
       "      <td>1.000000</td>\n",
       "      <td>-0.156884</td>\n",
       "      <td>-0.090010</td>\n",
       "      <td>0.618570</td>\n",
       "      <td>0.094656</td>\n",
       "      <td>-0.105868</td>\n",
       "      <td>0.034328</td>\n",
       "      <td>0.583238</td>\n",
       "    </tr>\n",
       "    <tr>\n",
       "      <th>USS</th>\n",
       "      <td>0.019453</td>\n",
       "      <td>0.002142</td>\n",
       "      <td>-0.156884</td>\n",
       "      <td>1.000000</td>\n",
       "      <td>-0.352915</td>\n",
       "      <td>-0.399477</td>\n",
       "      <td>-0.032549</td>\n",
       "      <td>-0.206416</td>\n",
       "      <td>-0.225122</td>\n",
       "      <td>-0.466574</td>\n",
       "    </tr>\n",
       "    <tr>\n",
       "      <th>CS</th>\n",
       "      <td>0.025638</td>\n",
       "      <td>-0.013956</td>\n",
       "      <td>-0.090010</td>\n",
       "      <td>-0.352915</td>\n",
       "      <td>1.000000</td>\n",
       "      <td>0.048037</td>\n",
       "      <td>-0.026968</td>\n",
       "      <td>0.185739</td>\n",
       "      <td>0.143972</td>\n",
       "      <td>0.018855</td>\n",
       "    </tr>\n",
       "    <tr>\n",
       "      <th>VOC</th>\n",
       "      <td>-0.089590</td>\n",
       "      <td>-0.052369</td>\n",
       "      <td>0.618570</td>\n",
       "      <td>-0.399477</td>\n",
       "      <td>0.048037</td>\n",
       "      <td>1.000000</td>\n",
       "      <td>0.008023</td>\n",
       "      <td>0.103628</td>\n",
       "      <td>0.208956</td>\n",
       "      <td>0.797329</td>\n",
       "    </tr>\n",
       "    <tr>\n",
       "      <th>RP</th>\n",
       "      <td>-0.043720</td>\n",
       "      <td>0.408784</td>\n",
       "      <td>0.094656</td>\n",
       "      <td>-0.032549</td>\n",
       "      <td>-0.026968</td>\n",
       "      <td>0.008023</td>\n",
       "      <td>1.000000</td>\n",
       "      <td>-0.158841</td>\n",
       "      <td>-0.078499</td>\n",
       "      <td>0.053668</td>\n",
       "    </tr>\n",
       "    <tr>\n",
       "      <th>IP</th>\n",
       "      <td>-0.003869</td>\n",
       "      <td>-0.058109</td>\n",
       "      <td>-0.105868</td>\n",
       "      <td>-0.206416</td>\n",
       "      <td>0.185739</td>\n",
       "      <td>0.103628</td>\n",
       "      <td>-0.158841</td>\n",
       "      <td>1.000000</td>\n",
       "      <td>0.372771</td>\n",
       "      <td>0.085624</td>\n",
       "    </tr>\n",
       "    <tr>\n",
       "      <th>Temperature</th>\n",
       "      <td>-0.018009</td>\n",
       "      <td>-0.062568</td>\n",
       "      <td>0.034328</td>\n",
       "      <td>-0.225122</td>\n",
       "      <td>0.143972</td>\n",
       "      <td>0.208956</td>\n",
       "      <td>-0.078499</td>\n",
       "      <td>0.372771</td>\n",
       "      <td>1.000000</td>\n",
       "      <td>0.190257</td>\n",
       "    </tr>\n",
       "    <tr>\n",
       "      <th>fail</th>\n",
       "      <td>-0.073066</td>\n",
       "      <td>-0.014462</td>\n",
       "      <td>0.583238</td>\n",
       "      <td>-0.466574</td>\n",
       "      <td>0.018855</td>\n",
       "      <td>0.797329</td>\n",
       "      <td>0.053668</td>\n",
       "      <td>0.085624</td>\n",
       "      <td>0.190257</td>\n",
       "      <td>1.000000</td>\n",
       "    </tr>\n",
       "  </tbody>\n",
       "</table>\n",
       "</div>"
      ],
      "text/plain": [
       "             footfall  tempMode        AQ       USS        CS       VOC  \\\n",
       "footfall     1.000000  0.020457 -0.065816  0.019453  0.025638 -0.089590   \n",
       "tempMode     0.020457  1.000000 -0.010855  0.002142 -0.013956 -0.052369   \n",
       "AQ          -0.065816 -0.010855  1.000000 -0.156884 -0.090010  0.618570   \n",
       "USS          0.019453  0.002142 -0.156884  1.000000 -0.352915 -0.399477   \n",
       "CS           0.025638 -0.013956 -0.090010 -0.352915  1.000000  0.048037   \n",
       "VOC         -0.089590 -0.052369  0.618570 -0.399477  0.048037  1.000000   \n",
       "RP          -0.043720  0.408784  0.094656 -0.032549 -0.026968  0.008023   \n",
       "IP          -0.003869 -0.058109 -0.105868 -0.206416  0.185739  0.103628   \n",
       "Temperature -0.018009 -0.062568  0.034328 -0.225122  0.143972  0.208956   \n",
       "fail        -0.073066 -0.014462  0.583238 -0.466574  0.018855  0.797329   \n",
       "\n",
       "                   RP        IP  Temperature      fail  \n",
       "footfall    -0.043720 -0.003869    -0.018009 -0.073066  \n",
       "tempMode     0.408784 -0.058109    -0.062568 -0.014462  \n",
       "AQ           0.094656 -0.105868     0.034328  0.583238  \n",
       "USS         -0.032549 -0.206416    -0.225122 -0.466574  \n",
       "CS          -0.026968  0.185739     0.143972  0.018855  \n",
       "VOC          0.008023  0.103628     0.208956  0.797329  \n",
       "RP           1.000000 -0.158841    -0.078499  0.053668  \n",
       "IP          -0.158841  1.000000     0.372771  0.085624  \n",
       "Temperature -0.078499  0.372771     1.000000  0.190257  \n",
       "fail         0.053668  0.085624     0.190257  1.000000  "
      ]
     },
     "execution_count": 41,
     "metadata": {},
     "output_type": "execute_result"
    }
   ],
   "source": [
    "machine_data.corr()"
   ]
  },
  {
   "cell_type": "code",
   "execution_count": 42,
   "metadata": {},
   "outputs": [],
   "source": [
    "X=machine_data[['AQ','USS','VOC','Temperature']]\n",
    "Y=machine_data['fail']"
   ]
  },
  {
   "cell_type": "code",
   "execution_count": 43,
   "metadata": {},
   "outputs": [],
   "source": [
    "x_train,x_test,y_train,y_test=train_test_split(X,Y,test_size=0.2,random_state=20)"
   ]
  },
  {
   "cell_type": "code",
   "execution_count": 44,
   "metadata": {},
   "outputs": [
    {
     "ename": "NameError",
     "evalue": "name 'Logis' is not defined",
     "output_type": "error",
     "traceback": [
      "\u001b[1;31m---------------------------------------------------------------------------\u001b[0m",
      "\u001b[1;31mNameError\u001b[0m                                 Traceback (most recent call last)",
      "Cell \u001b[1;32mIn[44], line 1\u001b[0m\n\u001b[1;32m----> 1\u001b[0m model1\u001b[38;5;241m=\u001b[39m\u001b[43mLogis\u001b[49m\n",
      "\u001b[1;31mNameError\u001b[0m: name 'Logis' is not defined"
     ]
    }
   ],
   "source": [
    "model1=Logis"
   ]
  }
 ],
 "metadata": {
  "kernelspec": {
   "display_name": "Python 3",
   "language": "python",
   "name": "python3"
  },
  "language_info": {
   "codemirror_mode": {
    "name": "ipython",
    "version": 3
   },
   "file_extension": ".py",
   "mimetype": "text/x-python",
   "name": "python",
   "nbconvert_exporter": "python",
   "pygments_lexer": "ipython3",
   "version": "3.12.3"
  }
 },
 "nbformat": 4,
 "nbformat_minor": 2
}
